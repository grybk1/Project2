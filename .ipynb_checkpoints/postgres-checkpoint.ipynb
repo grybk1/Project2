{
 "cells": [
  {
   "cell_type": "code",
   "execution_count": 46,
   "metadata": {},
   "outputs": [],
   "source": [
    "import psycopg2"
   ]
  },
  {
   "cell_type": "code",
   "execution_count": 64,
   "metadata": {
    "scrolled": false
   },
   "outputs": [
    {
     "name": "stdout",
     "output_type": "stream",
     "text": [
      "{'user': 'postgres', 'dbname': 'monsters', 'host': '127.0.0.1', 'port': '5432', 'tty': '', 'options': '', 'sslmode': 'prefer', 'sslcompression': '0', 'krbsrvname': 'postgres', 'target_session_attrs': 'any'} \n",
      "\n",
      "You are connected to -  ('PostgreSQL 12.1, compiled by Visual C++ build 1914, 64-bit',) \n",
      "\n"
     ]
    }
   ],
   "source": [
    "connection = psycopg2.connect(user = \"postgres\",\n",
    "                                  password = \"Bandit01!\",\n",
    "                                  host = \"127.0.0.1\",\n",
    "                                  port = \"5432\",\n",
    "                                  database = \"monsters\")\n",
    "\n",
    "cursor = connection.cursor()\n",
    "    # Print PostgreSQL Connection properties\n",
    "print ( connection.get_dsn_parameters(),\"\\n\")\n",
    "\n",
    "    # Print PostgreSQL version\n",
    "cursor.execute(\"SELECT version();\")\n",
    "record = cursor.fetchone()\n",
    "print(\"You are connected to - \", record,\"\\n\")"
   ]
  },
  {
   "cell_type": "code",
   "execution_count": 81,
   "metadata": {},
   "outputs": [
    {
     "data": {
      "text/plain": [
       "[(1, 'Test', '$1.00', 'Cali', 1.0, 1, 'TestPlot'),\n",
       " (2, 'Test2', '$1,000,000.00', 'Cali', 10.5, 2005, 'Test2Plot')]"
      ]
     },
     "execution_count": 81,
     "metadata": {},
     "output_type": "execute_result"
    }
   ],
   "source": [
    "cursor.execute(\"select * from public.movies\")\n",
    "cursor.fetchall()"
   ]
  },
  {
   "cell_type": "code",
   "execution_count": 80,
   "metadata": {},
   "outputs": [],
   "source": [
    "sql = \"\"\"INSERT INTO public.\"movies\" (\"title\", \"gross\", \"location\", \"rating\", \"year\", \"plot\") VALUES (%s,%s,%s,%s,%s,%s)\"\"\"\n",
    "#record = (\"Test\",1,\"Cali\",1,1,\"TestPlot\")\n",
    "record = (\"Test2\",1000000,\"Cali\",10.5,2005,\"Test2Plot\")\n",
    "cursor.execute(sql, (record))\n",
    "connection.commit()"
   ]
  },
  {
   "cell_type": "code",
   "execution_count": null,
   "metadata": {},
   "outputs": [],
   "source": [
    "import requests\n",
    "import json\n",
    "from pprint import pprint\n",
    "import csv\n",
    "\n",
    "title = []\n",
    "director = []\n",
    "year = []\n",
    "boxOffice = []\n",
    "location = []\n",
    "plot = []\n",
    "\n",
    "url = \"http://www.omdbapi.com/?t=\"\n",
    "api_key = \"&apikey=\""
   ]
  },
  {
   "cell_type": "code",
   "execution_count": null,
   "metadata": {},
   "outputs": [],
   "source": [
    "\n",
    "with open('zombie.csv', newline='') as csvfile:\n",
    "\n",
    "    csvreader = csv.reader(csvfile, delimiter = ',')\n",
    "\n",
    "    csv_header = next(csvreader)\n",
    "\n",
    "    for row in csvreader:\n",
    "        response = requests.get(url + row[1] + api_key)\n",
    "\n",
    "        response_json = response.json()\n",
    "\n",
    "        try:\n",
    "            title.append(response_json['Title'])\n",
    "            director.append(response_json['Director'])\n",
    "            year.append(response_json['Year'])\n",
    "            boxOffice.append(response_json['BoxOffice'])\n",
    "            location.append(response_json['Country'])\n",
    "            plot.append(response_json['Plot'])\n",
    "        except:\n",
    "            pass"
   ]
  }
 ],
 "metadata": {
  "kernelspec": {
   "display_name": "Python 3",
   "language": "python",
   "name": "python3"
  },
  "language_info": {
   "codemirror_mode": {
    "name": "ipython",
    "version": 3
   },
   "file_extension": ".py",
   "mimetype": "text/x-python",
   "name": "python",
   "nbconvert_exporter": "python",
   "pygments_lexer": "ipython3",
   "version": "3.7.4"
  }
 },
 "nbformat": 4,
 "nbformat_minor": 2
}
